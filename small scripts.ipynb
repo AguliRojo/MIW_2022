{
 "cells": [
  {
   "cell_type": "markdown",
   "id": "0131d812",
   "metadata": {},
   "source": [
    "# Using common libraries"
   ]
  },
  {
   "cell_type": "code",
   "execution_count": 39,
   "id": "b080d642",
   "metadata": {},
   "outputs": [],
   "source": [
    "#imports\n",
    "import matplotlib.pyplot as plt\n",
    "import numpy as np\n",
    "import pandas as pd\n",
    "# eigenvalues (wartosci wlasne)\n",
    "from numpy.linalg import eig"
   ]
  },
  {
   "cell_type": "code",
   "execution_count": 2,
   "id": "7db7c7d9",
   "metadata": {},
   "outputs": [],
   "source": [
    "# Setup test data\n",
    "a1 = np.array([[1,2,3],\n",
    "              [4,5,6],\n",
    "              [7,8,9]])\n",
    "\n",
    "a2 = np.array([[1,2,3],\n",
    "              [4,5,6],\n",
    "              [7,8,9]])\n",
    "\n",
    "a3 = np.array([[1,2],\n",
    "             [2,2]])"
   ]
  },
  {
   "cell_type": "code",
   "execution_count": 29,
   "id": "bbbca4e6",
   "metadata": {},
   "outputs": [
    {
     "name": "stdout",
     "output_type": "stream",
     "text": [
      "addition \n",
      " [[ 2  4  6]\n",
      " [ 8 10 12]\n",
      " [14 16 18]]\n",
      "substraction \n",
      " [[0 0 0]\n",
      " [0 0 0]\n",
      " [0 0 0]]\n",
      "dot product \n",
      " [[ 30  36  42]\n",
      " [ 66  81  96]\n",
      " [102 126 150]]\n",
      "determinant \n",
      " -2.0\n"
     ]
    }
   ],
   "source": [
    "# Operations\n",
    "# dot product == multiplication\n",
    "addition = a1+a2\n",
    "substraction = a1-a2\n",
    "dot_product = np.dot(a1,a2)\n",
    "determinant = np.linalg.det(a3)\n",
    "print(\"addition \\n\", addition)\n",
    "print(\"substraction \\n\", substraction)\n",
    "print(\"dot product \\n\", dot_product)\n",
    "print(\"determinant \\n\", determinant)"
   ]
  },
  {
   "cell_type": "code",
   "execution_count": 70,
   "id": "7bc7d825",
   "metadata": {},
   "outputs": [
    {
     "name": "stdout",
     "output_type": "stream",
     "text": [
      "[[0 0 2 4]\n",
      " [4 1 4 4]\n",
      " [2 4 0 4]\n",
      " [3 3 3 3]]\n",
      "determinant: \n",
      " -108.00000000000003\n"
     ]
    }
   ],
   "source": [
    "A=np.random.randint(0,5,size=(4,4))\n",
    "print(A)\n",
    "determinant = np.linalg.det(A)\n",
    "print(\"determinant: \\n\",determinant)"
   ]
  },
  {
   "cell_type": "markdown",
   "id": "a5e4efc3",
   "metadata": {},
   "source": [
    "## Left Right inverse"
   ]
  },
  {
   "cell_type": "code",
   "execution_count": 4,
   "id": "9d5729d8",
   "metadata": {},
   "outputs": [],
   "source": [
    "# default matrix declaration\n",
    "n=5\n",
    "m=3"
   ]
  },
  {
   "cell_type": "code",
   "execution_count": 5,
   "id": "ea1166bf",
   "metadata": {},
   "outputs": [
    {
     "name": "stdout",
     "output_type": "stream",
     "text": [
      "A: \n",
      " [[1 4 0]\n",
      " [2 3 3]\n",
      " [3 0 4]\n",
      " [3 4 3]\n",
      " [1 4 3]]\n",
      "At: \n",
      " [[1 2 3 3 1]\n",
      " [4 3 0 4 4]\n",
      " [0 3 4 3 3]]\n",
      "AtA: \n",
      " [[24 26 30]\n",
      " [26 57 33]\n",
      " [30 33 43]]\n",
      "Aleft:  \n",
      " [[ 0.22368421 -0.05684211  0.17842105  0.26789474 -0.44894737]\n",
      " [ 0.10526316  0.02736842 -0.11368421  0.02842105  0.09578947]\n",
      " [-0.23684211  0.08842105  0.05578947 -0.13894737  0.30947368]]\n"
     ]
    }
   ],
   "source": [
    "# Left inverse\n",
    "A=np.random.randint(0,5,size=(n,m))\n",
    "At = A.transpose()\n",
    "AtA = np.dot(At,A) # A * At\n",
    "Aleft = np.dot(np.linalg.inv(AtA),At)\n",
    "# AAt = np.dot(A,A_t)\n",
    "print(\"A: \\n\",A)\n",
    "print(\"At: \\n\",At)\n",
    "print(\"AtA: \\n\",AtA)\n",
    "print(\"Aleft:  \\n\",Aleft)"
   ]
  },
  {
   "cell_type": "code",
   "execution_count": 6,
   "id": "41cf6fa7",
   "metadata": {},
   "outputs": [
    {
     "name": "stdout",
     "output_type": "stream",
     "text": [
      "[[ 1.00000000e+00  8.88178420e-16  8.88178420e-16]\n",
      " [ 5.03069808e-17  1.00000000e+00 -1.99493200e-17]\n",
      " [-3.33066907e-16 -7.21644966e-16  1.00000000e+00]]\n"
     ]
    }
   ],
   "source": [
    "# check left inverse\n",
    "AtA_inv = np.linalg.inv(AtA)\n",
    "I_AtA = np.dot(AtA_inv,AtA)\n",
    "print(I_AtA)"
   ]
  },
  {
   "cell_type": "code",
   "execution_count": 7,
   "id": "5dc5f7b3",
   "metadata": {},
   "outputs": [
    {
     "name": "stdout",
     "output_type": "stream",
     "text": [
      "A: \n",
      " [[0 1 3 4 1]\n",
      " [3 2 1 3 0]\n",
      " [4 4 1 1 0]]\n",
      "At: \n",
      " [[0 3 4]\n",
      " [1 2 4]\n",
      " [3 1 1]\n",
      " [4 3 1]\n",
      " [1 0 0]]\n",
      "AAt: \n",
      " [[27 17 11]\n",
      " [17 23 24]\n",
      " [11 24 34]]\n",
      "Aright:  \n",
      " [[-0.16692587  0.28356661 -0.02851218]\n",
      " [ 0.10264386 -0.29237947  0.29082426]\n",
      " [ 0.23794712 -0.31415241  0.17418351]\n",
      " [ 0.01918092  0.34940384 -0.22343183]\n",
      " [ 0.10679108 -0.16277864  0.08035251]]\n"
     ]
    }
   ],
   "source": [
    "# right inverse\n",
    "A=np.random.randint(0,5,size=(m,n))\n",
    "At = A.transpose()\n",
    "AAt = np.dot(A,At)\n",
    "Aright = np.dot(At,np.linalg.inv(AAt))\n",
    "\n",
    "print(\"A: \\n\",A)\n",
    "print(\"At: \\n\",At)\n",
    "print(\"AAt: \\n\",AAt)\n",
    "print(\"Aright:  \\n\",Aright)"
   ]
  },
  {
   "cell_type": "code",
   "execution_count": 8,
   "id": "b6bc05c9",
   "metadata": {},
   "outputs": [
    {
     "name": "stdout",
     "output_type": "stream",
     "text": [
      "[[ 1.00000000e+00 -1.11022302e-15 -3.33066907e-16]\n",
      " [ 1.85962357e-15  1.00000000e+00  4.99600361e-16]\n",
      " [-6.10622664e-16 -4.44089210e-16  1.00000000e+00]]\n"
     ]
    }
   ],
   "source": [
    "# check right inverse\n",
    "AAt_inv = np.linalg.inv(AAt)\n",
    "I_AAt = np.dot(AAt_inv, AAt)\n",
    "print(I_AAt)"
   ]
  },
  {
   "cell_type": "markdown",
   "id": "33211a48",
   "metadata": {},
   "source": [
    "## Eigenvalues & eigenvectors"
   ]
  },
  {
   "cell_type": "code",
   "execution_count": 9,
   "id": "b0ddd1a8",
   "metadata": {},
   "outputs": [
    {
     "name": "stdout",
     "output_type": "stream",
     "text": [
      "E-value: [-1.  4.]\n",
      "E-vector [[-0.89442719 -0.4472136 ]\n",
      " [ 0.4472136  -0.89442719]]\n"
     ]
    },
    {
     "data": {
      "text/plain": [
       "array([[0, 2],\n",
       "       [2, 3]])"
      ]
     },
     "execution_count": 9,
     "metadata": {},
     "output_type": "execute_result"
    }
   ],
   "source": [
    "# eigenvalues (wartosci wlasne)\n",
    "from numpy.linalg import eig\n",
    "towel = np.array([[0, 2], \n",
    "              [2, 3]])\n",
    "w,v=eig(towel)\n",
    "print('E-value:', w)\n",
    "print('E-vector', v)\n",
    "towel"
   ]
  },
  {
   "cell_type": "markdown",
   "id": "5e771fa4",
   "metadata": {},
   "source": [
    "## SVD"
   ]
  },
  {
   "cell_type": "code",
   "execution_count": 68,
   "id": "6d1b0a7e",
   "metadata": {},
   "outputs": [
    {
     "name": "stdout",
     "output_type": "stream",
     "text": [
      "A: \n",
      " [[ 1  1]\n",
      " [ 0  1]\n",
      " [-1  1]]\n",
      "AtA:  \n",
      " [[2 0]\n",
      " [0 3]]\n",
      "U: \n",
      " [[-0.57735027 -0.70710678  0.40824829]\n",
      " [-0.57735027  0.         -0.81649658]\n",
      " [-0.57735027  0.70710678  0.40824829]]\n",
      "Sigma: \n",
      " [1.73205081 1.41421356]\n",
      "Sigma: \n",
      " [[1.73205081 0.        ]\n",
      " [0.         1.41421356]\n",
      " [0.         0.        ]]\n",
      "Vt: \n",
      " [[-0. -1.]\n",
      " [-1. -0.]]\n",
      "A: \n",
      " [[ 1.  1.]\n",
      " [ 0.  1.]\n",
      " [-1.  1.]]\n"
     ]
    }
   ],
   "source": [
    "# Singular-value decomposition\n",
    "A = np.array([[1, 1], [0, 1], [-1, 1]])\n",
    "# A = np.random.randint(0,2,size=(3,2))\n",
    "print(\"A: \\n\",A)\n",
    "print(\"AtA:  \\n\",np.dot(A.transpose(),A)) # A * At)\n",
    "# SVD\n",
    "U, s, VT = np.linalg.svd(A) # Sigma (s) must be diagonal\n",
    "# Create s matrix with size of matrix A\n",
    "Sigma = np.zeros((A.shape[0], A.shape[1])) # shape\n",
    "Sigma[:A.shape[1], :A.shape[1]] = np.diag(s) # fill\n",
    "print(\"U: \\n\",U)\n",
    "print(\"Sigma: \\n\",s) # sigma \n",
    "print(\"Sigma: \\n\", Sigma) # sigma casted into correct dimesions\n",
    "print(\"Vt: \\n\",VT)\n",
    "print(\"A: \\n\",np.dot(np.dot(U,Sigma),VT))"
   ]
  },
  {
   "cell_type": "markdown",
   "id": "6b00fc2c",
   "metadata": {},
   "source": [
    "## distance, cosine angle"
   ]
  },
  {
   "cell_type": "code",
   "execution_count": 35,
   "id": "69faa927",
   "metadata": {},
   "outputs": [
    {
     "data": {
      "text/plain": [
       "7.211102550927978"
      ]
     },
     "execution_count": 35,
     "metadata": {},
     "output_type": "execute_result"
    }
   ],
   "source": [
    "# Distance\n",
    "vec1 = np.array([[4,7]])\n",
    "vec2 = np.array([[-2,3]])\n",
    "dist = np.linalg.norm(vec1-vec2) # sqrt((x2-x1)^2+(y2-y1)^2)\n",
    "dist"
   ]
  },
  {
   "cell_type": "code",
   "execution_count": 66,
   "id": "305472c3",
   "metadata": {},
   "outputs": [
    {
     "name": "stdout",
     "output_type": "stream",
     "text": [
      "0.0\n",
      "1.5707963267948966\n"
     ]
    }
   ],
   "source": [
    "# cosine angle\n",
    "vector_1 = [0, 1]\n",
    "vector_2 = [1, 0]\n",
    "unit_vector_1 = vector_1 / np. linalg. norm(vector_1) # vector/distance\n",
    "unit_vector_2 = vector_2 / np. linalg. norm(vector_2)\n",
    "dot_product = np. dot(unit_vector_1, unit_vector_2)\n",
    "print(dot_product) # cosine between two vectors \n",
    "angle = np. arccos(dot_product)\n",
    "print(angle) # degree in radians"
   ]
  },
  {
   "cell_type": "code",
   "execution_count": 65,
   "id": "3d234f48",
   "metadata": {},
   "outputs": [
    {
     "data": {
      "image/png": "[encoded data removed]",
      "text/plain": [
       "<Figure size 432x288 with 1 Axes>"
      ]
     },
     "metadata": {
      "needs_background": "light"
     },
     "output_type": "display_data"
    }
   ],
   "source": [
    "# x axis values\n",
    "x = [0,0]\n",
    "# y axis values\n",
    "y = [0,1]\n",
    "  \n",
    "plt.plot(x, y, label=\"vector_1\")\n",
    "x = [0,1]\n",
    "y = [0,0]\n",
    "plt.plot(x, y, label=\"vector_2\")\n",
    "plt.plot([0,1],[1,0],label=\"distance\")\n",
    "# naming the x axis\n",
    "plt.xlabel('x - axis')\n",
    "# naming the y axis\n",
    "plt.ylabel('y - axis')\n",
    "plt.title('Vector distance')\n",
    "plt.legend()\n",
    "plt.show()"
   ]
  },
  {
   "cell_type": "markdown",
   "id": "b29416ed",
   "metadata": {},
   "source": [
    "## Linear regression"
   ]
  },
  {
   "cell_type": "code",
   "execution_count": null,
   "id": "94c8e6a0",
   "metadata": {},
   "outputs": [],
   "source": [
    "# Przykład:\n",
    "# 2,1\n",
    "# 3,1\n",
    "# 7,3\n",
    "# 2,3\n",
    "# Wynik  Beta0= 2/7 Beta1= 5/14"
   ]
  },
  {
   "cell_type": "markdown",
   "id": "1890ceba",
   "metadata": {},
   "source": [
    "# Without libraries "
   ]
  },
  {
   "cell_type": "code",
   "execution_count": 12,
   "id": "00f07dae",
   "metadata": {},
   "outputs": [],
   "source": [
    "array1 = [[3,4,0],[0,4,1]]\n",
    "array2 = [[2,-1,2],[4,0,0],[0,1,1]]\n",
    "arraySum1 = [[5,4,4],[2,1,-8],[-2,-4,1]]\n",
    "arraySum2 = [[7,-7,-9],[-3,-6,-3],[-6,-3,5]]"
   ]
  },
  {
   "cell_type": "code",
   "execution_count": 13,
   "id": "df181b59",
   "metadata": {},
   "outputs": [],
   "source": [
    "# MxN NxS\n",
    "# dimesions of array3 = MxS (2,3)\n",
    "# dot product calculation\n",
    "# array1 = 2x3 *  array2 = 3x3\n",
    "def DotSizes(array1,array2):\n",
    "    sizeof_arr1 = [0,0]\n",
    "    sizeof_arr2 = [0,0]\n",
    "    for index, line in enumerate(array1):\n",
    "        sizeof_arr1[0] += 1\n",
    "        for location, element in enumerate(array1[index]):\n",
    "            if index >= 1:\n",
    "                break\n",
    "            sizeof_arr1[1] += 1\n",
    "    for index, line in enumerate(array2):\n",
    "        sizeof_arr2[0] += 1\n",
    "        for location, element in enumerate(array2[index]):\n",
    "            if index >= 1:\n",
    "                break\n",
    "            sizeof_arr2[1] += 1\n",
    "    return sizeof_arr1, sizeof_arr2"
   ]
  },
  {
   "cell_type": "code",
   "execution_count": 14,
   "id": "6462dd4b",
   "metadata": {},
   "outputs": [
    {
     "name": "stdout",
     "output_type": "stream",
     "text": [
      "([2, 3], [3, 3])\n"
     ]
    }
   ],
   "source": [
    "matrix_size = DotSizes(array1,array2)\n",
    "print(matrix_size)\n"
   ]
  },
  {
   "cell_type": "code",
   "execution_count": 15,
   "id": "746c3803",
   "metadata": {},
   "outputs": [
    {
     "name": "stdout",
     "output_type": "stream",
     "text": [
      "[12, -3, -5]\n",
      "[-1, -5, -11]\n",
      "[-8, -7, 6]\n"
     ]
    }
   ],
   "source": [
    "# Adding matrixes\n",
    "arraySum = [[0,0,0],[0,0,0],[0,0,0]]\n",
    "for index, line in enumerate(arraySum):\n",
    "    for location, element in enumerate(arraySum[index]):\n",
    "        arraySum[index][location] += arraySum1[index][location]+ arraySum2[index][location]\n",
    "        \n",
    "for line in arraySum:\n",
    "    print(line)"
   ]
  },
  {
   "cell_type": "code",
   "execution_count": 16,
   "id": "a5da1bc2",
   "metadata": {},
   "outputs": [
    {
     "name": "stdout",
     "output_type": "stream",
     "text": [
      "[-2, 11, 13]\n",
      "[5, 7, -5]\n",
      "[4, -1, -4]\n"
     ]
    }
   ],
   "source": [
    "# Substracting matrixes\n",
    "arrayDel = [[0,0,0],[0,0,0],[0,0,0]]\n",
    "for index, line in enumerate(arrayDel):\n",
    "    for location, element in enumerate(arrayDel[index]):\n",
    "        arrayDel[index][location] = arraySum1[index][location] - arraySum2[index][location]\n",
    "        \n",
    "for line in arrayDel:\n",
    "    print(line)"
   ]
  },
  {
   "cell_type": "code",
   "execution_count": null,
   "id": "0cc62b25",
   "metadata": {},
   "outputs": [],
   "source": []
  }
 ],
 "metadata": {
  "kernelspec": {
   "display_name": "Python 3.8 (ipykernel)",
   "language": "python",
   "name": "python3.8"
  },
  "language_info": {
   "codemirror_mode": {
    "name": "ipython",
    "version": 3
   },
   "file_extension": ".py",
   "mimetype": "text/x-python",
   "name": "python",
   "nbconvert_exporter": "python",
   "pygments_lexer": "ipython3",
   "version": "3.8.13"
  }
 },
 "nbformat": 4,
 "nbformat_minor": 5
}
