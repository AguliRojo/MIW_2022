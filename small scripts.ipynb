{
 "cells": [
  {
   "cell_type": "markdown",
   "id": "febc7592",
   "metadata": {},
   "source": [
    "# Matrix todo:\n",
    "## - [x]determinant,\n",
    "## - [] angle \n",
    "## - []corelation \n",
    "### - [x] basic operations (+-*)"
   ]
  },
  {
   "cell_type": "markdown",
   "id": "0131d812",
   "metadata": {},
   "source": [
    "# Using common libraries"
   ]
  },
  {
   "cell_type": "code",
   "execution_count": 13,
   "id": "b080d642",
   "metadata": {},
   "outputs": [],
   "source": [
    "import matplotlib as plt\n",
    "import numpy as np\n",
    "import pandas as pd"
   ]
  },
  {
   "cell_type": "code",
   "execution_count": 33,
   "id": "7db7c7d9",
   "metadata": {},
   "outputs": [
    {
     "data": {
      "text/plain": [
       "-2.0"
      ]
     },
     "execution_count": 33,
     "metadata": {},
     "output_type": "execute_result"
    }
   ],
   "source": [
    "a1 = np.array([[1,2,3],\n",
    "              [4,5,6],\n",
    "              [7,8,9]])\n",
    "\n",
    "a2 = np.array([[1,2,3],\n",
    "              [4,5,6],\n",
    "              [7,8,9]])\n",
    "\n",
    "a3 = np.array([[1,2],\n",
    "             [2,2]])\n",
    "\n",
    "addition = a1+a2\n",
    "substraction = a1+a2\n",
    "#difference between matmul & dot is ambiguous\n",
    "multiplication = np.matmul(a1,a2)\n",
    "dot_product = np.dot(a1,a2)\n",
    "\n",
    "determinant = np.linalg.det(a3)"
   ]
  },
  {
   "cell_type": "markdown",
   "id": "6b00fc2c",
   "metadata": {},
   "source": [
    "## distance, cosine angle"
   ]
  },
  {
   "cell_type": "code",
   "execution_count": 36,
   "id": "69faa927",
   "metadata": {},
   "outputs": [
    {
     "data": {
      "text/plain": [
       "7.211102550927978"
      ]
     },
     "execution_count": 36,
     "metadata": {},
     "output_type": "execute_result"
    }
   ],
   "source": [
    "vec1 = np.array([[4,7]])\n",
    "vec2 = np.array([[-2,3]])\n",
    "dist = np.linalg.norm(vec1-vec2)\n",
    "dist"
   ]
  },
  {
   "cell_type": "markdown",
   "id": "1890ceba",
   "metadata": {},
   "source": [
    "# Clean approach "
   ]
  },
  {
   "cell_type": "code",
   "execution_count": 2,
   "id": "00f07dae",
   "metadata": {},
   "outputs": [],
   "source": [
    "array1 = [[3,4,0],[0,4,1]]\n",
    "array2 = [[2,-1,2],[4,0,0],[0,1,1]]\n",
    "arraySum1 = [[5,4,4],[2,1,-8],[-2,-4,1]]\n",
    "arraySum2 = [[7,-7,-9],[-3,-6,-3],[-6,-3,5]]"
   ]
  },
  {
   "cell_type": "code",
   "execution_count": 8,
   "id": "df181b59",
   "metadata": {},
   "outputs": [],
   "source": [
    "# MxN NxS\n",
    "# dimesions of array3 = MxS (2,3)\n",
    "# dot product calculation\n",
    "# array1 = 2x3 *  array2 = 3x3\n",
    "def DotSizes(array1,array2):\n",
    "    sizeof_arr1 = [0,0]\n",
    "    sizeof_arr2 = [0,0]\n",
    "    for index, line in enumerate(array1):\n",
    "        sizeof_arr1[0] += 1\n",
    "        for location, element in enumerate(array1[index]):\n",
    "            if index >= 1:\n",
    "                break\n",
    "            sizeof_arr1[1] += 1\n",
    "    for index, line in enumerate(array2):\n",
    "        sizeof_arr2[0] += 1\n",
    "        for location, element in enumerate(array2[index]):\n",
    "            if index >= 1:\n",
    "                break\n",
    "            sizeof_arr2[1] += 1\n",
    "    return sizeof_arr1, sizeof_arr2"
   ]
  },
  {
   "cell_type": "code",
   "execution_count": 44,
   "id": "6462dd4b",
   "metadata": {},
   "outputs": [
    {
     "name": "stdout",
     "output_type": "stream",
     "text": [
      "([2, 3], [3, 3])\n"
     ]
    }
   ],
   "source": [
    "matrix_size = DotSizes(array1,array2)\n",
    "print(matrix_size)\n"
   ]
  },
  {
   "cell_type": "code",
   "execution_count": 57,
   "id": "746c3803",
   "metadata": {},
   "outputs": [
    {
     "name": "stdout",
     "output_type": "stream",
     "text": [
      "[12, -3, -5]\n",
      "[-1, -5, -11]\n",
      "[-8, -7, 6]\n"
     ]
    }
   ],
   "source": [
    "# Adding matrixes\n",
    "arraySum = [[0,0,0],[0,0,0],[0,0,0]]\n",
    "for index, line in enumerate(arraySum):\n",
    "    for location, element in enumerate(arraySum[index]):\n",
    "        arraySum[index][location] += arraySum1[index][location]+ arraySum2[index][location]\n",
    "        \n",
    "for line in arraySum:\n",
    "    print(line)"
   ]
  },
  {
   "cell_type": "code",
   "execution_count": 44,
   "id": "a5da1bc2",
   "metadata": {},
   "outputs": [
    {
     "name": "stdout",
     "output_type": "stream",
     "text": [
      "[-2, 11, 13]\n",
      "[5, 7, -5]\n",
      "[4, -1, -4]\n"
     ]
    }
   ],
   "source": [
    "# Substracting matrixes\n",
    "arrayDel = [[0,0,0],[0,0,0],[0,0,0]]\n",
    "for index, line in enumerate(arrayDel):\n",
    "    for location, element in enumerate(arrayDel[index]):\n",
    "        arrayDel[index][location] = arraySum1[index][location] - arraySum2[index][location]\n",
    "        \n",
    "for line in arrayDel:\n",
    "    print(line)"
   ]
  },
  {
   "cell_type": "code",
   "execution_count": null,
   "id": "eab81846",
   "metadata": {},
   "outputs": [],
   "source": []
  }
 ],
 "metadata": {
  "kernelspec": {
   "display_name": "Python 3.8 (ipykernel)",
   "language": "python",
   "name": "python3.8"
  },
  "language_info": {
   "codemirror_mode": {
    "name": "ipython",
    "version": 3
   },
   "file_extension": ".py",
   "mimetype": "text/x-python",
   "name": "python",
   "nbconvert_exporter": "python",
   "pygments_lexer": "ipython3",
   "version": "3.8.13"
  }
 },
 "nbformat": 4,
 "nbformat_minor": 5
}
