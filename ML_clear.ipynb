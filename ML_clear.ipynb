{
 "cells": [
  {
   "cell_type": "markdown",
   "id": "fa0ceaa3",
   "metadata": {},
   "source": [
    "# Data setup"
   ]
  },
  {
   "cell_type": "code",
   "execution_count": 1,
   "id": "6ddcdf77",
   "metadata": {},
   "outputs": [],
   "source": [
    "import pandas as pd"
   ]
  },
  {
   "cell_type": "code",
   "execution_count": 2,
   "id": "45b071c6",
   "metadata": {},
   "outputs": [],
   "source": [
    "dataframe = []\n",
    "with open(\"australian.dat\", \"r\") as file:\n",
    "    for line in file:\n",
    "        kolekcja = line.replace(\"\\n\",\"\").split()\n",
    "        kolekcja = list(map(lambda e: float(e), kolekcja)) # Using map is enough\n",
    "        dataframe.append(kolekcja)"
   ]
  },
  {
   "cell_type": "code",
   "execution_count": 15,
   "id": "d5d5bf97",
   "metadata": {},
   "outputs": [],
   "source": [
    "numerical = [item[:-1] for item in dataframe] # dane numeryczne\n",
    "decision = [item[-1] for item in dataframe] # dane kategoryczne\n",
    "smallest = [min(index) for index in zip(*dataframe)] # najmniejsze wartosci do kazdej kolumny\n",
    "biggest = [max(index) for index in zip(*dataframe)] # najwieksze wartosci do kazdej kolumny\n",
    "values = list(zip(smallest, biggest)) # lista najmniejszych i najwiekszych (w tuplach)"
   ]
  },
  {
   "cell_type": "code",
   "execution_count": 31,
   "id": "cef521e5",
   "metadata": {},
   "outputs": [],
   "source": [
    "df = dataframe # data normalised\n",
    "for j,y in enumerate(df):\n",
    "    for i,x in enumerate(values):\n",
    "        df[j][i] = (df[j][i] - x[0])/(x[1]-x[0])\n",
    "        #(liczba -min)/max-min\n",
    "# for i, x in enumerate(df):\n",
    "#     print(f'{df[i]}\\n')"
   ]
  },
  {
   "cell_type": "markdown",
   "id": "7cadb7b3",
   "metadata": {},
   "source": [
    "Zwykły for loop nie działa, z racji iż pętla nie porusza sie po indeksach, a iteratorach. Przy użyciu podwójnego for loopa pojawia się błąd\n",
    "**TypeError: list indices must be integers or slices, not list**\n",
    "\n",
    "Przy uzyciu enumerate mamy dostep do wartosci, oraz wartosci an danym indeksie\n",
    "```python\n",
    "for j,y in enumerate(df):\n",
    "    for i,x in enumerate(values):\n",
    "        df[j][i] = (df[j][i] - x[0])/(x[1]-x[0])\n",
    "```\n",
    "Powyzszy kod sluzy do normalizacji wartosci. ```values([min,max])```"
   ]
  },
  {
   "cell_type": "code",
   "execution_count": 7,
   "id": "e88d7ee0",
   "metadata": {
    "scrolled": true
   },
   "outputs": [
    {
     "name": "stdout",
     "output_type": "stream",
     "text": [
      "[1.0, 22.08, 11.46, 2.0, 4.0, 4.0, 1.585, 0.0, 0.0, 0.0, 1.0, 2.0, 100.0, 1213.0, 0.0]\n",
      "[0.0, 22.67, 7.0, 2.0, 8.0, 4.0, 0.165, 0.0, 0.0, 0.0, 0.0, 2.0, 160.0, 1.0, 0.0]\n",
      "[0.0, 29.58, 1.75, 1.0, 4.0, 4.0, 1.25, 0.0, 0.0, 0.0, 1.0, 2.0, 280.0, 1.0, 0.0]\n",
      "[0.0, 21.67, 11.5, 1.0, 5.0, 3.0, 0.0, 1.0, 1.0, 11.0, 1.0, 2.0, 0.0, 1.0, 1.0]\n",
      "[1.0, 20.17, 8.17, 2.0, 6.0, 4.0, 1.96, 1.0, 1.0, 14.0, 0.0, 2.0, 60.0, 159.0, 1.0]\n"
     ]
    }
   ],
   "source": [
    "# pierwsze wyniki bazy \n",
    "for x in range(5):\n",
    "    print(dataframe[x]),"
   ]
  },
  {
   "cell_type": "code",
   "execution_count": 33,
   "id": "14232516",
   "metadata": {},
   "outputs": [
    {
     "name": "stdout",
     "output_type": "stream",
     "text": [
      "[1.0, -0.20992366386439926, 2.3781345889042827e-08, -0.953125, -0.08333248736380496, -0.14284133911132812, 2.957740761412473e-09, 0.0, 0.0, 0.0, 1.0, -0.953125, 1.5625e-18, -1.000010000100001e-05, 0.0]\n",
      "[0.0, -0.2099236638575771, 1.4526127506396146e-08, -0.953125, -0.08333165865896082, -0.14284133911132812, 3.079036123867875e-10, 0.0, 0.0, 0.0, 0.0, -0.953125, 2.5000000000000006e-18, -1.000010000100001e-05, 0.0]\n",
      "[0.0, -0.20992366377767682, 3.6315318765990364e-09, -0.96875, -0.08333248736380496, -0.14284133911132812, 2.3326031241423293e-09, 0.0, 0.0, 0.0, 1.0, -0.953125, 4.375e-18, -1.000010000100001e-05, 0.0]\n",
      "[0.0, -0.20992366386914008, 2.3864352331936526e-08, -0.96875, -0.08333228018759391, -0.14284515380859375, 0.0, 1.0, 1.0, 1.2160288230060444e-10, 1.0, -0.953125, 0.0, -1.000010000100001e-05, 1.0]\n",
      "[1.0, -0.20992366388648456, 1.6954065961036642e-08, -0.953125, -0.08333207301138289, -0.14284133911132812, 3.657521698655173e-09, 1.0, 1.0, 1.547673047462238e-10, 0.0, -0.953125, 9.375e-19, -1.000010000100001e-05, 1.0]\n"
     ]
    }
   ],
   "source": [
    "#znormalizowane wyniki bazy\n",
    "for i in range(5):\n",
    "    print(df[i])"
   ]
  },
  {
   "cell_type": "markdown",
   "id": "c9f5e12c",
   "metadata": {},
   "source": [
    "# Example Data"
   ]
  },
  {
   "cell_type": "code",
   "execution_count": null,
   "id": "6b9e46ee",
   "metadata": {},
   "outputs": [],
   "source": []
  }
 ],
 "metadata": {
  "kernelspec": {
   "display_name": "Python 3.8 (ipykernel)",
   "language": "python",
   "name": "python3.8"
  },
  "language_info": {
   "codemirror_mode": {
    "name": "ipython",
    "version": 3
   },
   "file_extension": ".py",
   "mimetype": "text/x-python",
   "name": "python",
   "nbconvert_exporter": "python",
   "pygments_lexer": "ipython3",
   "version": "3.8.12"
  }
 },
 "nbformat": 4,
 "nbformat_minor": 5
}
