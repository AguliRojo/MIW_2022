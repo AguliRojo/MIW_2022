{
 "cells": [
  {
   "cell_type": "markdown",
   "id": "fa0ceaa3",
   "metadata": {},
   "source": [
    "# Data setup"
   ]
  },
  {
   "cell_type": "code",
   "execution_count": 7,
   "id": "6ddcdf77",
   "metadata": {},
   "outputs": [],
   "source": [
    "import pandas as pd"
   ]
  },
  {
   "cell_type": "code",
   "execution_count": 8,
   "id": "45b071c6",
   "metadata": {},
   "outputs": [],
   "source": [
    "dataframe = []\n",
    "with open(\"australian.dat\", \"r\") as file:\n",
    "    for line in file:\n",
    "        kolekcja = line.replace(\"\\n\",\"\").split()\n",
    "        kolekcja = list(map(lambda e: float(e), kolekcja)) # Using map is enough\n",
    "        dataframe.append(kolekcja)"
   ]
  },
  {
   "cell_type": "code",
   "execution_count": 9,
   "id": "d5d5bf97",
   "metadata": {},
   "outputs": [],
   "source": [
    "numerical = [item[:-1] for item in dataframe] # dane numeryczne\n",
    "decision = [item[-1] for item in dataframe] # dane kategoryczne\n",
    "smallest = [min(index) for index in zip(*dataframe)] # najmniejsze wartosci do kazdej kolumny\n",
    "biggest = [max(index) for index in zip(*dataframe)] # najwieksze wartosci do kazdej kolumny\n",
    "values = list(zip(smallest, biggest)) # lista najmniejszych i najwiekszych (w tuplach)"
   ]
  },
  {
   "cell_type": "code",
   "execution_count": 10,
   "id": "cef521e5",
   "metadata": {},
   "outputs": [],
   "source": [
    "df = dataframe # data normalised\n",
    "for j,y in enumerate(df):\n",
    "    for i,x in enumerate(values):\n",
    "        df[j][i] = (df[j][i] - x[0])/(x[1]-x[0])\n",
    "        #(liczba -min)/max-min\n",
    "# for i, x in enumerate(df):\n",
    "#     print(f'{df[i]}\\n')"
   ]
  },
  {
   "cell_type": "markdown",
   "id": "7cadb7b3",
   "metadata": {},
   "source": [
    "Zwykły for loop nie działa, z racji iż pętla nie porusza sie po indeksach, a iteratorach. Przy użyciu podwójnego for loopa pojawia się błąd\n",
    "**TypeError: list indices must be integers or slices, not list**\n",
    "\n",
    "Przy uzyciu enumerate mamy dostep do wartosci, oraz wartosci an danym indeksie\n",
    "```python\n",
    "for j,y in enumerate(df):\n",
    "    for i,x in enumerate(values):\n",
    "        df[j][i] = (df[j][i] - x[0])/(x[1]-x[0])\n",
    "```\n",
    "Powyzszy kod sluzy do normalizacji wartosci. ```values([min,max])```"
   ]
  },
  {
   "cell_type": "code",
   "execution_count": 11,
   "id": "e88d7ee0",
   "metadata": {
    "scrolled": true
   },
   "outputs": [
    {
     "name": "stdout",
     "output_type": "stream",
     "text": [
      "[1.0, 0.12526315789473683, 0.4092857142857143, 0.5, 0.23076923076923078, 0.375, 0.055614035087719296, 0.0, 0.0, 0.0, 1.0, 0.5, 0.05, 0.01212, 0.0]\n",
      "[0.0, 0.1341353383458647, 0.25, 0.5, 0.5384615384615384, 0.375, 0.005789473684210527, 0.0, 0.0, 0.0, 0.0, 0.5, 0.08, 0.0, 0.0]\n",
      "[0.0, 0.23804511278195487, 0.0625, 0.0, 0.23076923076923078, 0.375, 0.043859649122807015, 0.0, 0.0, 0.0, 1.0, 0.5, 0.14, 0.0, 0.0]\n",
      "[0.0, 0.11909774436090229, 0.4107142857142857, 0.0, 0.3076923076923077, 0.25, 0.0, 1.0, 1.0, 0.16417910447761194, 1.0, 0.5, 0.0, 0.0, 1.0]\n",
      "[1.0, 0.09654135338345868, 0.29178571428571426, 0.5, 0.38461538461538464, 0.375, 0.0687719298245614, 1.0, 1.0, 0.208955223880597, 0.0, 0.5, 0.03, 0.00158, 1.0]\n"
     ]
    }
   ],
   "source": [
    "# pierwsze wyniki bazy \n",
    "for x in range(5):\n",
    "    print(dataframe[x]),"
   ]
  },
  {
   "cell_type": "code",
   "execution_count": 12,
   "id": "14232516",
   "metadata": {},
   "outputs": [
    {
     "name": "stdout",
     "output_type": "stream",
     "text": [
      "[1.0, 0.12526315789473683, 0.4092857142857143, 0.5, 0.23076923076923078, 0.375, 0.055614035087719296, 0.0, 0.0, 0.0, 1.0, 0.5, 0.05, 0.01212, 0.0]\n",
      "[0.0, 0.1341353383458647, 0.25, 0.5, 0.5384615384615384, 0.375, 0.005789473684210527, 0.0, 0.0, 0.0, 0.0, 0.5, 0.08, 0.0, 0.0]\n",
      "[0.0, 0.23804511278195487, 0.0625, 0.0, 0.23076923076923078, 0.375, 0.043859649122807015, 0.0, 0.0, 0.0, 1.0, 0.5, 0.14, 0.0, 0.0]\n",
      "[0.0, 0.11909774436090229, 0.4107142857142857, 0.0, 0.3076923076923077, 0.25, 0.0, 1.0, 1.0, 0.16417910447761194, 1.0, 0.5, 0.0, 0.0, 1.0]\n",
      "[1.0, 0.09654135338345868, 0.29178571428571426, 0.5, 0.38461538461538464, 0.375, 0.0687719298245614, 1.0, 1.0, 0.208955223880597, 0.0, 0.5, 0.03, 0.00158, 1.0]\n"
     ]
    }
   ],
   "source": [
    "#znormalizowane wyniki bazy\n",
    "for i in range(5):\n",
    "    print(df[i])"
   ]
  },
  {
   "cell_type": "markdown",
   "id": "c9f5e12c",
   "metadata": {},
   "source": [
    "# Example Data"
   ]
  },
  {
   "cell_type": "code",
   "execution_count": null,
   "id": "6b9e46ee",
   "metadata": {},
   "outputs": [],
   "source": []
  }
 ],
 "metadata": {
  "kernelspec": {
   "display_name": "Python 3.8 (ipykernel)",
   "language": "python",
   "name": "python3.8"
  },
  "language_info": {
   "codemirror_mode": {
    "name": "ipython",
    "version": 3
   },
   "file_extension": ".py",
   "mimetype": "text/x-python",
   "name": "python",
   "nbconvert_exporter": "python",
   "pygments_lexer": "ipython3",
   "version": "3.8.13"
  }
 },
 "nbformat": 4,
 "nbformat_minor": 5
}
